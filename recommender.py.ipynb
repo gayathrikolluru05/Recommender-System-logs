{
 "cells": [
  {
   "cell_type": "code",
   "execution_count": 72,
   "id": "bb925e55",
   "metadata": {},
   "outputs": [
    {
     "name": "stdout",
     "output_type": "stream",
     "text": [
      "['192.168.4.164', '22/Dec/2016:15:19:05 +0300', 'GET', '/DVWA/', 'HTTP/1.1', '200', '2020', '-', 'Mozilla/5.0', 'Windows NT 6.3; WOW64', 'AppleWebKit/537.36', 'KHTML, like Gecko', 'Chrome/41.0.2272.16', 'Safari/537.36']\n"
     ]
    }
   ],
   "source": [
    "###First 20 for clustering and last 30 for detecting anamolies\n",
    "import re\n",
    "my_file = open(\"netsparker.txt\", \"r\")\n",
    "yourResult = [line for line in my_file.readlines()]\n",
    "main_result=[]\n",
    "regex = '\"([(\\d\\.)]+) - - \\[(.*?)\\] \"(.*?) (.*?) (.*?)\" (\\d+) (\\d+) \"(.*?)\" \"(.*?) \\((.*?)\\) (.*?) \\((.*?)\\) (.*?) (.*?)\"\"'\n",
    "for line in yourResult:\n",
    "    #a= list(re.match(regex, yourResult1[1791]).groups())\n",
    "    a= list(re.match(regex, line).groups())\n",
    "    main_result.append(a)\n",
    "print(main_result[0])\n"
   ]
  },
  {
   "cell_type": "code",
   "execution_count": 105,
   "id": "ef908fba",
   "metadata": {},
   "outputs": [
    {
     "name": "stdout",
     "output_type": "stream",
     "text": [
      "1\n"
     ]
    }
   ],
   "source": [
    "import numpy as np\n",
    "np_array=np.array(main_result)\n",
    "arr1=np_array[:,9]\n",
    "print(len(set(arr1)))"
   ]
  },
  {
   "cell_type": "code",
   "execution_count": 110,
   "id": "34f61d72",
   "metadata": {},
   "outputs": [
    {
     "name": "stdout",
     "output_type": "stream",
     "text": [
      "['192.168.4.164' '22/Dec/2016:15:19:05 +0300' 'GET' '/DVWA/' 'HTTP/1.1'\n",
      " '200' '2020' '-' 'Mozilla/5.0' 'Windows NT 6.3; WOW64'\n",
      " 'AppleWebKit/537.36' 'KHTML, like Gecko' 'Chrome/41.0.2272.16'\n",
      " 'Safari/537.36']\n",
      "7314\n",
      "4105\n"
     ]
    }
   ],
   "source": [
    "####0->1,1->212, 2->6, 3->4668,4->1     1,3,6,7\n",
    "row_len=len(np_array)\n",
    "col_len=len(np_array[0]) ####iterate through col length\n",
    "ranks=[[0]*col_len]*row_len ####Ranks of every column\n",
    "cluster_number=10\n",
    "anamolies_number=40\n",
    "baseline_combos=set()\n",
    "#nonbaseline_combos=set()#defaultdict(int)\n",
    "#print(row_len)\n",
    "for j in range(col_len):\n",
    "    arr=np_array[:,j]\n",
    "    u, count = np.unique(arr, return_counts=True)\n",
    "    count_sort_ind = np.argsort(-count)\n",
    "    u[count_sort_ind]     ###keys and their count are u and count respectively\n",
    "    count[count_sort_ind]\n",
    "    #print(len(u[count_sort_ind]))\n",
    "    #rank=[0]*row_len\n",
    "    for i in range(row_len):\n",
    "        ind= np.where(u[count_sort_ind]==np_array[i][j])\n",
    "        ranks[i][j]=1/(ind[0][-1]+1)\n",
    "        if (j==1 or j==3 or j==6 and j==7) and ind[0][-1]+1 <= cluster_number:    ###Remove j==4 case in real original code after testing\n",
    "            baseline_combos.add(i)\n",
    "        \n",
    "            \n",
    "        \n",
    "#print(ranks[0])\n",
    "print(np_array[0])\n",
    "print(len(np_array))\n",
    "print(len(baseline_combos))\n",
    "    \n",
    "    \n"
   ]
  },
  {
   "cell_type": "code",
   "execution_count": 133,
   "id": "85c369e9",
   "metadata": {},
   "outputs": [
    {
     "name": "stdout",
     "output_type": "stream",
     "text": [
      "3209\n"
     ]
    }
   ],
   "source": [
    "### computing MRR for baseline combinations\n",
    "#import math\n",
    "mrr=[0]*col_len\n",
    "D=[] ### for storing the distances from every column  from the MRR of each column\n",
    "DS=[]\n",
    "for i in range(col_len):\n",
    "    ###calculating mrr for each column\n",
    "    s=0\n",
    "    for j in range(len(baseline_combos)):\n",
    "        s+=ranks[j][i]\n",
    "    mrr[i]=(1/len(baseline_combos))*s\n",
    "    k=[]\n",
    "    for j in range(row_len):\n",
    "        if j not in baseline_combos:\n",
    "            k.append(abs(mrr[i]-ranks[j][i]))\n",
    "    #k.sort(reverse=True)\n",
    "    D.append(k)\n",
    "print(len(D[7]) )      \n",
    "        "
   ]
  },
  {
   "cell_type": "code",
   "execution_count": 134,
   "id": "41e9c3a5",
   "metadata": {},
   "outputs": [
    {
     "name": "stdout",
     "output_type": "stream",
     "text": [
      "['192.168.4.164', '192.168.4.164', '192.168.4.164', '192.168.4.164', '192.168.4.164', '192.168.4.164', '192.168.4.164', '192.168.4.164', '192.168.4.164', '192.168.4.164', '192.168.4.164', '192.168.4.164', '192.168.4.164', '192.168.4.164', '192.168.4.164', '192.168.4.164', '192.168.4.164', '192.168.4.164', '192.168.4.164', '192.168.4.164', '192.168.4.164', '192.168.4.164', '192.168.4.164', '192.168.4.164', '192.168.4.164', '192.168.4.164', '192.168.4.164', '192.168.4.164', '192.168.4.164', '192.168.4.164', '192.168.4.164', '192.168.4.164', '192.168.4.164', '192.168.4.164', '192.168.4.164', '192.168.4.164', '192.168.4.164', '192.168.4.164', '192.168.4.164', '192.168.4.164', '192.168.4.164', '22/Dec/2016:15:20:12 +0300', '22/Dec/2016:15:20:12 +0300', '22/Dec/2016:15:20:12 +0300', '22/Dec/2016:15:20:12 +0300', '22/Dec/2016:15:20:12 +0300', '22/Dec/2016:15:20:12 +0300', '22/Dec/2016:15:20:12 +0300', '22/Dec/2016:15:20:12 +0300', '22/Dec/2016:15:20:12 +0300', '22/Dec/2016:15:20:12 +0300', '22/Dec/2016:15:20:12 +0300', '22/Dec/2016:15:20:12 +0300', '22/Dec/2016:15:20:12 +0300', '22/Dec/2016:15:20:12 +0300', '22/Dec/2016:15:20:12 +0300', '22/Dec/2016:15:20:12 +0300', '22/Dec/2016:15:20:12 +0300', '22/Dec/2016:15:20:12 +0300', '22/Dec/2016:15:20:12 +0300', '22/Dec/2016:15:20:12 +0300', '22/Dec/2016:15:20:12 +0300', '22/Dec/2016:15:20:12 +0300', '22/Dec/2016:15:20:12 +0300', '22/Dec/2016:15:20:12 +0300', '22/Dec/2016:15:20:11 +0300', '22/Dec/2016:15:20:11 +0300', '22/Dec/2016:15:20:11 +0300', '22/Dec/2016:15:20:11 +0300', '22/Dec/2016:15:20:11 +0300', '22/Dec/2016:15:20:11 +0300', '22/Dec/2016:15:20:11 +0300', '22/Dec/2016:15:20:11 +0300', '22/Dec/2016:15:20:11 +0300', '22/Dec/2016:15:20:11 +0300', '22/Dec/2016:15:20:11 +0300', '22/Dec/2016:15:20:11 +0300', '22/Dec/2016:15:20:10 +0300', '22/Dec/2016:15:20:10 +0300', '22/Dec/2016:15:20:10 +0300', '22/Dec/2016:15:20:10 +0300', '22/Dec/2016:15:20:10 +0300', 'GET', 'GET', 'GET', 'GET', 'GET', 'GET', 'GET', 'GET', 'GET', 'GET', 'GET', 'GET', 'GET', 'GET', 'GET', 'GET', 'GET', 'GET', 'GET', 'GET', 'GET', 'GET', 'GET', 'GET', 'GET', 'GET', 'GET', 'GET', 'GET', 'GET', 'GET', 'GET', 'GET', 'GET', 'GET', 'GET', 'GET', 'GET', 'GET', 'GET', 'GET', '/DVWA/vulnerabilities/xss_r/?\\'\\\\\"@--></style></scRipt><scRipt>netsparker(0x0001FF)</scRipt>', '/DVWA/vulnerabilities/xss_r/?\\'\\\\\"@--></style></scRipt><scRipt>netsparker(0x0001FE)</scRipt>', '/DVWA/vulnerabilities/xss_r/%2522ns%253D%2522netsparker%25280x0001F9%2529', '/DVWA/vulnerabilities/xss_r/%2522ns%253D%2522netsparker%25280x0001F8%2529', '/DVWA/vulnerabilities/xss_r/%22ns=%22netsparker(0x0001F1)', '/DVWA/vulnerabilities/xss_r/%22ns=%22netsparker(0x0001F0)', \"/DVWA/vulnerabilities/xss_r/'%22@--%3E%3C/style%3E%3C/scRipt%3E%3CscRipt%3Enetsparker(0x0001FB)%3C/scRipt%3E\", \"/DVWA/vulnerabilities/xss_r/'%22@--%3E%3C/style%3E%3C/scRipt%3E%3CscRipt%3Enetsparker(0x0001FA)%3C/scRipt%3E\", \"/DVWA/vulnerabilities/xss_r/'%22--%3E%3C/style%3E%3C/scRipt%3E%3CscRipt%3Enetsparker(0x0001EF)%3C/scRipt%3E\", \"/DVWA/vulnerabilities/xss_r/'%22--%3E%3C/style%3E%3C/scRipt%3E%3CscRipt%3Enetsparker(0x0001EE)%3C/scRipt%3E\", \"/DVWA/vulnerabilities/xss_r/'%22--%3E%3C/style%3E%3C/scRipt%3E%3CscRipt%3Enetsparker(0x0001ED)%3C/scRipt%3E\", \"/DVWA/vulnerabilities/xss_r/'%22--%3E%3C/style%3E%3C/scRipt%3E%3CscRipt%3Enetsparker(0x0001EC)%3C/scRipt%3E\", '/DVWA/vulnerabilities/xss_r/%20ns=netsparker(0x0001F5)', '/DVWA/vulnerabilities/xss_r/%20ns=netsparker(0x0001F4)', '/DVWA/vulnerabilities/xss_r/%0D%0Ans:netsparker056650=vuln', '/DVWA/vulnerabilities/xss_r/%0Ans:netsparker056650=vuln', \"/DVWA/security.php?nsextt='%22@--%3E%3C/style%3E%3C/scRipt%3E%3CscRipt%3Enetsparker(0x000200)%3C/scRipt%3E\", \"/DVWA/security.php?nsextt='%22--%3E%3C/style%3E%3C/scRipt%3E%3CscRipt%3Enetsparker(0x0001F7)%3C/scRipt%3E\", \"/DVWA/security.php?nsextt='%22--%3E%3C/style%3E%3C/scRipt%3E%3CscRipt%3Enetsparker(0x0001F6)%3C/scRipt%3E\", '/DVWA/security.php?nsextt=%0d%0ans%3anetsparker056650%3dvuln', '/DVWA/security.php?nsextt=%0ans%3anetsparker056650%3dvuln', '/DVWA/security.php?http://r87.com/?', '/DVWA/security.php', '/DVWA/security.php', '/DVWA/vulnerabilities/xss_r/?nsextt=%0d%0ans%3anetsparker056650%3dvuln', '/DVWA/vulnerabilities/xss_r/?nsextt=%0ans%3anetsparker056650%3dvuln', '/DVWA/vulnerabilities/xss_r/?hTTp://r87.com/n', '/DVWA/vulnerabilities/xss_r/?http://r87.com/?', '/DVWA/vulnerabilities/xss_r/', '/DVWA/vulnerabilities/xss_r/', '/DVWA/vulnerabilities/xss_r/', \"/DVWA/vulnerabilities/fi/?page=include.php&nsextt='%22@--%3E%3C/style%3E%3C/scRipt%3E%3CscRipt%3Enetsparker(0x0001E7)%3C/scRipt%3E\", '/DVWA/vulnerabilities/fi/?page=include.php', '/DVWA/vulnerabilities/fi/?page=include.php', '/DVWA/vulnerabilities/fi/?page=include.php', '/DVWA/vulnerabilities/fi/?page=include.php', \"/DVWA/vulnerabilities/xss_r/?nsextt='%22@--%3E%3C/style%3E%3C/scRipt%3E%3CscRipt%3Enetsparker(0x0001DF)%3C/scRipt%3E\", \"/DVWA/vulnerabilities/xss_r/?nsextt='%22@--%3E%3C/style%3E%3C/scRipt%3E%3CscRipt%3Enetsparker(0x0001DE)%3C/scRipt%3E\", \"/DVWA/vulnerabilities/xss_r/?nsextt='%22--%3E%3C/style%3E%3C/scRipt%3E%3CscRipt%3Enetsparker(0x0001DD)%3C/scRipt%3E\", \"/DVWA/vulnerabilities/xss_r/?nsextt='%22--%3E%3C/style%3E%3C/scRipt%3E%3CscRipt%3Enetsparker(0x0001DC)%3C/scRipt%3E\", '/DVWA/vulnerabilities/xss_r/', 'HTTP/1.1', 'HTTP/1.1', 'HTTP/1.1', 'HTTP/1.1', 'HTTP/1.1', 'HTTP/1.1', 'HTTP/1.1', 'HTTP/1.1', 'HTTP/1.1', 'HTTP/1.1', 'HTTP/1.1', 'HTTP/1.1', 'HTTP/1.1', 'HTTP/1.1', 'HTTP/1.1', 'HTTP/1.1', 'HTTP/1.1', 'HTTP/1.1', 'HTTP/1.1', 'HTTP/1.1', 'HTTP/1.1', 'HTTP/1.1', 'HTTP/1.1', 'HTTP/1.1', 'HTTP/1.1', 'HTTP/1.1', 'HTTP/1.1', 'HTTP/1.1', 'HTTP/1.1', 'HTTP/1.1', 'HTTP/1.1', 'HTTP/1.1', 'HTTP/1.1', 'HTTP/1.1', 'HTTP/1.1', 'HTTP/1.1', 'HTTP/1.1', 'HTTP/1.1', 'HTTP/1.1', 'HTTP/1.1', 'HTTP/1.1', '200', '200', '404', '404', '404', '404', '404', '404', '404', '404', '404', '404', '404', '404', '404', '404', '200', '200', '200', '200', '200', '200', '200', '200', '200', '200', '200', '200', '200', '200', '200', '200', '200', '200', '200', '200', '200', '200', '200', '200', '200', '1689', '1689', '553', '552', '553', '553', '609', '610', '609', '609', '609', '609', '541', '541', '544', '543', '1766', '1801', '1802', '1802', '1802', '1802', '1802', '1802', '1690', '1690', '1690', '1690', '1690', '1690', '1690', '1637', '1637', '1637', '1637', '1637', '1690', '1690', '1690', '1690', '1690', 'http://192.168.4.161/DVWA/', 'http://192.168.4.161/DVWA/', 'http://192.168.4.161/DVWA/', 'http://192.168.4.161/DVWA/', 'http://192.168.4.161/DVWA/', 'http://192.168.4.161/DVWA/', 'http://192.168.4.161/DVWA/', 'http://192.168.4.161/DVWA/', 'http://192.168.4.161/DVWA/', 'http://192.168.4.161/DVWA/', 'http://192.168.4.161/DVWA/', 'http://192.168.4.161/DVWA/', 'http://192.168.4.161/DVWA/', 'http://192.168.4.161/DVWA/', 'http://192.168.4.161/DVWA/', 'http://192.168.4.161/DVWA/', 'http://192.168.4.161/DVWA/', 'http://192.168.4.161/DVWA/', 'http://192.168.4.161/DVWA/', 'http://192.168.4.161/DVWA/', 'http://192.168.4.161/DVWA/', 'http://192.168.4.161/DVWA/', 'hTTp://r87.com/n', '() { :;}; echo \\\\\"NS:\\\\\" $(/bin/sh -c \\\\\"expr 268409241 - 2\\\\\")', 'http://192.168.4.161/DVWA/', 'http://192.168.4.161/DVWA/', 'http://192.168.4.161/DVWA/', 'http://192.168.4.161/DVWA/', 'ns:netsparker056650=vuln', 'ns:netsparker056650=vuln', 'hTTp://r87.com/n', 'http://192.168.4.161/DVWA/', '\\'\\\\\"--></style></scRipt><scRipt>netsparker(0x0001E9)</scRipt>', '\\'\\\\\"--></style></scRipt><scRipt>netsparker(0x0001E8)</scRipt>', '\\'\\\\\"@--></style></scRipt><scRipt>netsparker(0x0001EB)</scRipt>', '\\'\\\\\"@--></style></scRipt><scRipt>netsparker(0x0001EA)</scRipt>', 'http://192.168.4.161/DVWA/', 'http://192.168.4.161/DVWA/', 'http://192.168.4.161/DVWA/', 'http://192.168.4.161/DVWA/', '\\'\\\\\"--></style></scRipt><scRipt>netsparker(0x0001E1)</scRipt>', 'Mozilla/5.0', 'Mozilla/5.0', 'Mozilla/5.0', 'Mozilla/5.0', 'Mozilla/5.0', 'Mozilla/5.0', 'Mozilla/5.0', 'Mozilla/5.0', 'Mozilla/5.0', 'Mozilla/5.0', 'Mozilla/5.0', 'Mozilla/5.0', 'Mozilla/5.0', 'Mozilla/5.0', 'Mozilla/5.0', 'Mozilla/5.0', 'Mozilla/5.0', 'Mozilla/5.0', 'Mozilla/5.0', 'Mozilla/5.0', 'Mozilla/5.0', 'Mozilla/5.0', 'Mozilla/5.0', 'Mozilla/5.0', 'Mozilla/5.0', 'Mozilla/5.0', 'Mozilla/5.0', 'Mozilla/5.0', 'Mozilla/5.0', 'Mozilla/5.0', 'Mozilla/5.0', 'Mozilla/5.0', 'Mozilla/5.0', 'Mozilla/5.0', 'Mozilla/5.0', 'Mozilla/5.0', 'Mozilla/5.0', 'Mozilla/5.0', 'Mozilla/5.0', 'Mozilla/5.0', 'Mozilla/5.0', 'Windows NT 6.3; WOW64', 'Windows NT 6.3; WOW64', 'Windows NT 6.3; WOW64', 'Windows NT 6.3; WOW64', 'Windows NT 6.3; WOW64', 'Windows NT 6.3; WOW64', 'Windows NT 6.3; WOW64', 'Windows NT 6.3; WOW64', 'Windows NT 6.3; WOW64', 'Windows NT 6.3; WOW64', 'Windows NT 6.3; WOW64', 'Windows NT 6.3; WOW64', 'Windows NT 6.3; WOW64', 'Windows NT 6.3; WOW64', 'Windows NT 6.3; WOW64', 'Windows NT 6.3; WOW64', 'Windows NT 6.3; WOW64', 'Windows NT 6.3; WOW64', 'Windows NT 6.3; WOW64', 'Windows NT 6.3; WOW64', 'Windows NT 6.3; WOW64', 'Windows NT 6.3; WOW64', 'Windows NT 6.3; WOW64', 'Windows NT 6.3; WOW64', 'Windows NT 6.3; WOW64', 'Windows NT 6.3; WOW64', 'Windows NT 6.3; WOW64', 'Windows NT 6.3; WOW64', 'Windows NT 6.3; WOW64', 'Windows NT 6.3; WOW64', 'Windows NT 6.3; WOW64', 'Windows NT 6.3; WOW64', 'Windows NT 6.3; WOW64', 'Windows NT 6.3; WOW64', 'Windows NT 6.3; WOW64', 'Windows NT 6.3; WOW64', 'Windows NT 6.3; WOW64', 'Windows NT 6.3; WOW64', 'Windows NT 6.3; WOW64', 'Windows NT 6.3; WOW64', 'Windows NT 6.3; WOW64', 'AppleWebKit/537.36', 'AppleWebKit/537.36', 'AppleWebKit/537.36', 'AppleWebKit/537.36', 'AppleWebKit/537.36', 'AppleWebKit/537.36', 'AppleWebKit/537.36', 'AppleWebKit/537.36', 'AppleWebKit/537.36', 'AppleWebKit/537.36', 'AppleWebKit/537.36', 'AppleWebKit/537.36', 'AppleWebKit/537.36', 'AppleWebKit/537.36', 'AppleWebKit/537.36', 'AppleWebKit/537.36', 'AppleWebKit/537.36', 'AppleWebKit/537.36', 'AppleWebKit/537.36', 'AppleWebKit/537.36', 'AppleWebKit/537.36', 'AppleWebKit/537.36', 'AppleWebKit/537.36', 'AppleWebKit/537.36', 'AppleWebKit/537.36', 'AppleWebKit/537.36', 'AppleWebKit/537.36', 'AppleWebKit/537.36', 'AppleWebKit/537.36', 'AppleWebKit/537.36', 'AppleWebKit/537.36', 'AppleWebKit/537.36', 'AppleWebKit/537.36', 'AppleWebKit/537.36', 'AppleWebKit/537.36', 'AppleWebKit/537.36', 'AppleWebKit/537.36', 'AppleWebKit/537.36', 'AppleWebKit/537.36', 'AppleWebKit/537.36', 'AppleWebKit/537.36', 'KHTML, like Gecko', 'KHTML, like Gecko', 'KHTML, like Gecko', 'KHTML, like Gecko', 'KHTML, like Gecko', 'KHTML, like Gecko', 'KHTML, like Gecko', 'KHTML, like Gecko', 'KHTML, like Gecko', 'KHTML, like Gecko', 'KHTML, like Gecko', 'KHTML, like Gecko', 'KHTML, like Gecko', 'KHTML, like Gecko', 'KHTML, like Gecko', 'KHTML, like Gecko', 'KHTML, like Gecko', 'KHTML, like Gecko', 'KHTML, like Gecko', 'KHTML, like Gecko', 'KHTML, like Gecko', 'KHTML, like Gecko', 'KHTML, like Gecko', 'KHTML, like Gecko', 'KHTML, like Gecko', 'KHTML, like Gecko', 'KHTML, like Gecko', 'KHTML, like Gecko', 'KHTML, like Gecko', 'KHTML, like Gecko', 'KHTML, like Gecko', 'KHTML, like Gecko', 'KHTML, like Gecko', 'KHTML, like Gecko', 'KHTML, like Gecko', 'KHTML, like Gecko', 'KHTML, like Gecko', 'KHTML, like Gecko', 'KHTML, like Gecko', 'KHTML, like Gecko', 'KHTML, like Gecko', 'Chrome/41.0.2272.16', 'Chrome/41.0.2272.16', 'Chrome/41.0.2272.16', 'Chrome/41.0.2272.16', 'Chrome/41.0.2272.16', 'Chrome/41.0.2272.16', 'Chrome/41.0.2272.16', 'Chrome/41.0.2272.16', 'Chrome/41.0.2272.16', 'Chrome/41.0.2272.16', 'Chrome/41.0.2272.16', 'Chrome/41.0.2272.16', 'Chrome/41.0.2272.16', 'Chrome/41.0.2272.16', 'Chrome/41.0.2272.16', 'Chrome/41.0.2272.16', 'Chrome/41.0.2272.16', 'Chrome/41.0.2272.16', 'Chrome/41.0.2272.16', 'Chrome/41.0.2272.16', 'Chrome/41.0.2272.16', 'Chrome/41.0.2272.16', 'Chrome/41.0.2272.16', 'Chrome/41.0.2272.16', 'Chrome/41.0.2272.16', 'Chrome/41.0.2272.16', 'Chrome/41.0.2272.16', 'Chrome/41.0.2272.16', 'Chrome/41.0.2272.16', 'Chrome/41.0.2272.16', 'Chrome/41.0.2272.16', 'Chrome/41.0.2272.16', 'Chrome/41.0.2272.16', 'Chrome/41.0.2272.16', 'Chrome/41.0.2272.16', 'Chrome/41.0.2272.16', 'Chrome/41.0.2272.16', 'Chrome/41.0.2272.16', 'Chrome/41.0.2272.16', 'Chrome/41.0.2272.16', 'Chrome/41.0.2272.16', 'Safari/537.36', 'Safari/537.36', 'Safari/537.36', 'Safari/537.36', 'Safari/537.36', 'Safari/537.36', 'Safari/537.36', 'Safari/537.36', 'Safari/537.36', 'Safari/537.36', 'Safari/537.36', 'Safari/537.36', 'Safari/537.36', 'Safari/537.36', 'Safari/537.36', 'Safari/537.36', 'Safari/537.36', 'Safari/537.36', 'Safari/537.36', 'Safari/537.36', 'Safari/537.36', 'Safari/537.36', 'Safari/537.36', 'Safari/537.36', 'Safari/537.36', 'Safari/537.36', 'Safari/537.36', 'Safari/537.36', 'Safari/537.36', 'Safari/537.36', 'Safari/537.36', 'Safari/537.36', 'Safari/537.36', 'Safari/537.36', 'Safari/537.36', 'Safari/537.36', 'Safari/537.36', 'Safari/537.36', 'Safari/537.36', 'Safari/537.36', 'Safari/537.36']\n"
     ]
    }
   ],
   "source": [
    "###### Adding the combinations names of the columns\n",
    "for i in range(col_len):\n",
    "    k=D[i]\n",
    "    k.sort(reverse=True)\n",
    "    for j in range(len(D[i])-1,len(D[i])-1-anamolies_number-1,-1):\n",
    "        DS.append(np_array[j][i])\n",
    "\n",
    "print(DS)\n",
    "    \n",
    "    \n",
    "    \n",
    "    "
   ]
  },
  {
   "cell_type": "code",
   "execution_count": null,
   "id": "a6eac78b",
   "metadata": {},
   "outputs": [],
   "source": []
  }
 ],
 "metadata": {
  "kernelspec": {
   "display_name": "Python 3 (ipykernel)",
   "language": "python",
   "name": "python3"
  },
  "language_info": {
   "codemirror_mode": {
    "name": "ipython",
    "version": 3
   },
   "file_extension": ".py",
   "mimetype": "text/x-python",
   "name": "python",
   "nbconvert_exporter": "python",
   "pygments_lexer": "ipython3",
   "version": "3.9.6"
  }
 },
 "nbformat": 4,
 "nbformat_minor": 5
}

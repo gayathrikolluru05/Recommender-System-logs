{
 "cells": [
  {
   "cell_type": "code",
   "execution_count": 4,
   "id": "bb925e55",
   "metadata": {},
   "outputs": [],
   "source": [
    "import re\n",
    "my_file = open(\"netsparker.txt\", \"r\")\n",
    "yourResult = [line for line in my_file.readlines()]\n",
    "main_result=[]\n",
    "regex = '\"([(\\d\\.)]+) - - \\[(.*?)\\] \"(.*?) (.*?) (.*?)\" (\\d+) (\\d+) \"(.*?)\" \"(.*?) \\((.*?)\\) (.*?) \\((.*?)\\) (.*?) (.*?)\"\"'\n",
    "for line in yourResult:\n",
    "    #a= list(re.match(regex, yourResult1[1791]).groups())\n",
    "    a= list(re.match(regex, line).groups())\n",
    "    main_result.append(a)\n"
   ]
  },
  {
   "cell_type": "code",
   "execution_count": 13,
   "id": "ef908fba",
   "metadata": {},
   "outputs": [],
   "source": [
    "import numpy as np\n",
    "np_array=np.array(main_result)"
   ]
  },
  {
   "cell_type": "code",
   "execution_count": 39,
   "id": "64691a70",
   "metadata": {},
   "outputs": [
    {
     "name": "stdout",
     "output_type": "stream",
     "text": [
      "7314\n",
      "4668\n"
     ]
    }
   ],
   "source": [
    "row_len=len(np_array)\n",
    "col_len=len(np_array[0]) ####iterate through col length\n",
    "#print(row_len)\n",
    "arr=np_array[:,3]\n",
    "u, count = np.unique(arr, return_counts=True)\n",
    "count_sort_ind = np.argsort(-count)\n",
    "u[count_sort_ind]     ###keys and their count are u and count respectively\n",
    "count[count_sort_ind]\n",
    "#print(len(u[count_sort_ind]))\n",
    "rank=[0]*row_len\n",
    "for i in range(row_len):\n",
    "    #print(np_array[i])\n",
    "    ind= np.where(u[count_sort_ind]==np_array[i][3])\n",
    "    #print(ind[0])\n",
    "    \n",
    "    \n"
   ]
  },
  {
   "cell_type": "code",
   "execution_count": null,
   "id": "c29762c3",
   "metadata": {},
   "outputs": [],
   "source": []
  }
 ],
 "metadata": {
  "kernelspec": {
   "display_name": "Python 3 (ipykernel)",
   "language": "python",
   "name": "python3"
  },
  "language_info": {
   "codemirror_mode": {
    "name": "ipython",
    "version": 3
   },
   "file_extension": ".py",
   "mimetype": "text/x-python",
   "name": "python",
   "nbconvert_exporter": "python",
   "pygments_lexer": "ipython3",
   "version": "3.9.6"
  }
 },
 "nbformat": 4,
 "nbformat_minor": 5
}

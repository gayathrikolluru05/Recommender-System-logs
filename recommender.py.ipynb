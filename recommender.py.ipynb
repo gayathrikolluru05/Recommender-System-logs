{
 "cells": [
  {
   "cell_type": "code",
   "execution_count": 56,
   "id": "bb925e55",
   "metadata": {},
   "outputs": [
    {
     "name": "stdout",
     "output_type": "stream",
     "text": [
      "['192.168.4.164', '22/Dec/2016:15:19:05 +0300', 'GET', '/DVWA/', 'HTTP/1.1', '200', '2020', '-', 'Mozilla/5.0', 'Windows NT 6.3; WOW64', 'AppleWebKit/537.36', 'KHTML, like Gecko', 'Chrome/41.0.2272.16', 'Safari/537.36']\n"
     ]
    }
   ],
   "source": [
    "import re\n",
    "my_file = open(\"netsparker.txt\", \"r\")\n",
    "yourResult = [line for line in my_file.readlines()]\n",
    "main_result=[]\n",
    "regex = '\"([(\\d\\.)]+) - - \\[(.*?)\\] \"(.*?) (.*?) (.*?)\" (\\d+) (\\d+) \"(.*?)\" \"(.*?) \\((.*?)\\) (.*?) \\((.*?)\\) (.*?) (.*?)\"\"'\n",
    "for line in yourResult:\n",
    "    #a= list(re.match(regex, yourResult1[1791]).groups())\n",
    "    a= list(re.match(regex, line).groups())\n",
    "    main_result.append(a)\n",
    "print(main_result[0])\n"
   ]
  },
  {
   "cell_type": "code",
   "execution_count": 13,
   "id": "ef908fba",
   "metadata": {},
   "outputs": [],
   "source": [
    "import numpy as np\n",
    "np_array=np.array(main_result)"
   ]
  },
  {
   "cell_type": "code",
   "execution_count": 69,
   "id": "eb799e24",
   "metadata": {},
   "outputs": [
    {
     "name": "stdout",
     "output_type": "stream",
     "text": [
      "[1, 161, 3, 3, 1, 1, 5, 3, 1, 1, 1, 1, 1, 1]\n",
      "['192.168.4.164' '22/Dec/2016:15:19:05 +0300' 'GET' '/DVWA/' 'HTTP/1.1'\n",
      " '200' '2020' '-' 'Mozilla/5.0' 'Windows NT 6.3; WOW64'\n",
      " 'AppleWebKit/537.36' 'KHTML, like Gecko' 'Chrome/41.0.2272.16'\n",
      " 'Safari/537.36']\n"
     ]
    }
   ],
   "source": [
    "row_len=len(np_array)\n",
    "col_len=len(np_array[0]) ####iterate through col length\n",
    "ranks=[[0]*col_len]*row_len ####Ranks of every column\n",
    "#print(row_len)\n",
    "for j in range(col_len):\n",
    "    arr=np_array[:,j]\n",
    "    u, count = np.unique(arr, return_counts=True)\n",
    "    count_sort_ind = np.argsort(-count)\n",
    "    u[count_sort_ind]     ###keys and their count are u and count respectively\n",
    "    count[count_sort_ind]\n",
    "    #print(len(u[count_sort_ind]))\n",
    "    #rank=[0]*row_len\n",
    "    for i in range(row_len):\n",
    "        #print(np_array[i])\n",
    "        #if np_array[i][j]=='-':\n",
    "            #print(np_array[i][j],i,j)\n",
    "            #ranks[i][j]=0\n",
    "        #else:\n",
    "        ind= np.where(u[count_sort_ind]==np_array[i][j])\n",
    "        ranks[i][j]=ind[0][-1]+1\n",
    "print(ranks[0])\n",
    "print(np_array[0])\n",
    "    \n",
    "    \n"
   ]
  },
  {
   "cell_type": "code",
   "execution_count": null,
   "id": "192e8cd6",
   "metadata": {},
   "outputs": [],
   "source": []
  }
 ],
 "metadata": {
  "kernelspec": {
   "display_name": "Python 3 (ipykernel)",
   "language": "python",
   "name": "python3"
  },
  "language_info": {
   "codemirror_mode": {
    "name": "ipython",
    "version": 3
   },
   "file_extension": ".py",
   "mimetype": "text/x-python",
   "name": "python",
   "nbconvert_exporter": "python",
   "pygments_lexer": "ipython3",
   "version": "3.9.6"
  }
 },
 "nbformat": 4,
 "nbformat_minor": 5
}
